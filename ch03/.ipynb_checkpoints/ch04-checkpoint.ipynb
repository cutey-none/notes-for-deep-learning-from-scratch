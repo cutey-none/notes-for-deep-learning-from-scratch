{
 "cells": [
  {
   "cell_type": "markdown",
   "id": "df942424-8e1d-488e-a711-010cc518c44a",
   "metadata": {},
   "source": [
    "#### 4.2.4 mini-batch版交叉熵误差的实现（P91）\n",
    "\n",
    "这里的笔记内容是，针对于one-hot数据和非one-hot数据（标签形式）数据的疑惑，首先看下one-hot实现"
   ]
  },
  {
   "cell_type": "code",
   "execution_count": null,
   "id": "6f8d11e9-86c4-49d7-9520-74d9afbc78b1",
   "metadata": {},
   "outputs": [],
   "source": [
    "def cross_entropy_error(y, t):\n",
    "    if y.ndim == 1:\n",
    "        t = t.reshape(1, t.size)\n",
    "        y = y.reshape(1, y.size)\n",
    "    batch_size = y.shape[0]\n",
    "    return -np.sum(t * np.log(y + 1e-7)) / batch_size"
   ]
  },
  {
   "cell_type": "markdown",
   "id": "3b5ef779-d726-4610-b543-3a84998a2bd3",
   "metadata": {},
   "source": [
    "再来看看非one-hot的实现"
   ]
  },
  {
   "cell_type": "code",
   "execution_count": null,
   "id": "3f4366a7-7190-4aae-8f6c-0fe58f2e4a7e",
   "metadata": {},
   "outputs": [],
   "source": [
    "def cross_entropy_error(y, t):\n",
    "    if y.ndim == 1:\n",
    "        t = t.reshape(1, t.size)\n",
    "        y = y.reshape(1, y.size)\n",
    "    batch_size = y.shape[0]\n",
    "    return -np.sum(np.log(y[np.arange(batch_size), t] + 1e-7)) / batch_size"
   ]
  },
  {
   "cell_type": "code",
   "execution_count": null,
   "id": "d7886251-c928-479e-b550-650b018f7399",
   "metadata": {},
   "outputs": [],
   "source": []
  }
 ],
 "metadata": {
  "kernelspec": {
   "display_name": "Python 3 (ipykernel)",
   "language": "python",
   "name": "python3"
  },
  "language_info": {
   "codemirror_mode": {
    "name": "ipython",
    "version": 3
   },
   "file_extension": ".py",
   "mimetype": "text/x-python",
   "name": "python",
   "nbconvert_exporter": "python",
   "pygments_lexer": "ipython3",
   "version": "3.9.21"
  }
 },
 "nbformat": 4,
 "nbformat_minor": 5
}
